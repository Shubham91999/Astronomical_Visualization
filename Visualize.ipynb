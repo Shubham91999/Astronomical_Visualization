{
 "cells": [
  {
   "cell_type": "markdown",
   "metadata": {},
   "source": [
    "Introduction to Tabular data"
   ]
  },
  {
   "cell_type": "code",
   "execution_count": 9,
   "metadata": {},
   "outputs": [],
   "source": [
    "# Importing the libraries\n",
    "# OS library is used to interact with os file system. It helps in creating new directory and save visualizations that we have created with the help of python.\n",
    "import os\n",
    "\n",
    "# pandas -> used to read and interpret csv file\n",
    "import pandas as pd\n",
    "\n",
    "# numpy -> to convert data from csv to array or other required formats\n",
    "import numpy as np\n",
    "\n",
    "# seaborn -> uses Matplotlib to plot graphs from the datas. Used to visualize random distributions.\n",
    "import seaborn as sns\n",
    "\n",
    "# matplotlib -> to visualize and plot data\n",
    "import matplotlib.pyplot as plt"
   ]
  },
  {
   "cell_type": "code",
   "execution_count": 10,
   "metadata": {},
   "outputs": [
    {
     "name": "stdout",
     "output_type": "stream",
     "text": [
      "<class 'pandas.core.frame.DataFrame'>\n",
      "RangeIndex: 240 entries, 0 to 239\n",
      "Data columns (total 7 columns):\n",
      " #   Column                  Non-Null Count  Dtype  \n",
      "---  ------                  --------------  -----  \n",
      " 0   Temperature (K)         240 non-null    int64  \n",
      " 1   Luminosity(L/Lo)        240 non-null    float64\n",
      " 2   Radius(R/Ro)            240 non-null    float64\n",
      " 3   Absolute magnitude(Mv)  240 non-null    float64\n",
      " 4   Star type               240 non-null    int64  \n",
      " 5   Star color              240 non-null    object \n",
      " 6   Spectral Class          240 non-null    object \n",
      "dtypes: float64(3), int64(2), object(2)\n",
      "memory usage: 13.3+ KB\n"
     ]
    }
   ],
   "source": [
    "# pd.read_csv('https://drive.google.com/uc?id=1BQVc6MHjQFtDC9iP1isT_K4ojVe_Oil-')\n",
    "\n",
    "# pd.read_csv('/Users/shubhamk/Documents/GitHub/Astronomical_Visualization/cleaned_star_data.csv')\n",
    "\n",
    "#Storing data in variable star_df\n",
    "star_df = pd.read_csv('https://raw.githubusercontent.com/Shubham91999/Astronomical_Visualization/main/cleaned_star_data.csv')\n",
    "\n",
    "#To check the datatype of returned result\n",
    "type(pd.read_csv('https://raw.githubusercontent.com/Shubham91999/Astronomical_Visualization/main/cleaned_star_data.csv'))\n",
    "\n",
    "#head() is used to return first 5 rows of the result set\n",
    "star_df.head()\n",
    "\n",
    "#sample() is used to analyze the random rows from dataset, here 10 rows are selected randomly\n",
    "star_df.sample(10)\n",
    "\n",
    "#Checking general information about the dataframe\n",
    "star_df.info()"
   ]
  },
  {
   "cell_type": "code",
   "execution_count": 11,
   "metadata": {},
   "outputs": [
    {
     "data": {
      "text/html": [
       "<div>\n",
       "<style scoped>\n",
       "    .dataframe tbody tr th:only-of-type {\n",
       "        vertical-align: middle;\n",
       "    }\n",
       "\n",
       "    .dataframe tbody tr th {\n",
       "        vertical-align: top;\n",
       "    }\n",
       "\n",
       "    .dataframe thead th {\n",
       "        text-align: right;\n",
       "    }\n",
       "</style>\n",
       "<table border=\"1\" class=\"dataframe\">\n",
       "  <thead>\n",
       "    <tr style=\"text-align: right;\">\n",
       "      <th></th>\n",
       "      <th>Temperature (K)</th>\n",
       "      <th>Luminosity(L/Lo)</th>\n",
       "      <th>Radius(R/Ro)</th>\n",
       "      <th>Absolute magnitude(Mv)</th>\n",
       "      <th>Star type</th>\n",
       "      <th>Star color</th>\n",
       "      <th>Spectral Class</th>\n",
       "    </tr>\n",
       "  </thead>\n",
       "  <tbody>\n",
       "    <tr>\n",
       "      <th>59</th>\n",
       "      <td>3535</td>\n",
       "      <td>195000.000000</td>\n",
       "      <td>1546.0000</td>\n",
       "      <td>-11.36</td>\n",
       "      <td>5</td>\n",
       "      <td>Red</td>\n",
       "      <td>M</td>\n",
       "    </tr>\n",
       "    <tr>\n",
       "      <th>153</th>\n",
       "      <td>16390</td>\n",
       "      <td>1278.000000</td>\n",
       "      <td>5.6800</td>\n",
       "      <td>-3.32</td>\n",
       "      <td>3</td>\n",
       "      <td>Blue-White</td>\n",
       "      <td>B</td>\n",
       "    </tr>\n",
       "    <tr>\n",
       "      <th>174</th>\n",
       "      <td>3600</td>\n",
       "      <td>240000.000000</td>\n",
       "      <td>1190.0000</td>\n",
       "      <td>-7.89</td>\n",
       "      <td>5</td>\n",
       "      <td>Red</td>\n",
       "      <td>M</td>\n",
       "    </tr>\n",
       "    <tr>\n",
       "      <th>201</th>\n",
       "      <td>15680</td>\n",
       "      <td>0.001220</td>\n",
       "      <td>0.0114</td>\n",
       "      <td>11.92</td>\n",
       "      <td>2</td>\n",
       "      <td>Blue</td>\n",
       "      <td>B</td>\n",
       "    </tr>\n",
       "    <tr>\n",
       "      <th>95</th>\n",
       "      <td>11250</td>\n",
       "      <td>672.000000</td>\n",
       "      <td>6.9800</td>\n",
       "      <td>-2.30</td>\n",
       "      <td>3</td>\n",
       "      <td>Blue-White</td>\n",
       "      <td>A</td>\n",
       "    </tr>\n",
       "    <tr>\n",
       "      <th>34</th>\n",
       "      <td>5800</td>\n",
       "      <td>0.810000</td>\n",
       "      <td>0.9000</td>\n",
       "      <td>5.05</td>\n",
       "      <td>3</td>\n",
       "      <td>Yellow-White</td>\n",
       "      <td>F</td>\n",
       "    </tr>\n",
       "    <tr>\n",
       "      <th>189</th>\n",
       "      <td>3523</td>\n",
       "      <td>0.000957</td>\n",
       "      <td>0.1290</td>\n",
       "      <td>16.35</td>\n",
       "      <td>0</td>\n",
       "      <td>Red</td>\n",
       "      <td>M</td>\n",
       "    </tr>\n",
       "    <tr>\n",
       "      <th>79</th>\n",
       "      <td>3158</td>\n",
       "      <td>0.001350</td>\n",
       "      <td>0.1610</td>\n",
       "      <td>13.98</td>\n",
       "      <td>1</td>\n",
       "      <td>Red</td>\n",
       "      <td>M</td>\n",
       "    </tr>\n",
       "    <tr>\n",
       "      <th>53</th>\n",
       "      <td>3749</td>\n",
       "      <td>550000.000000</td>\n",
       "      <td>1648.0000</td>\n",
       "      <td>-8.05</td>\n",
       "      <td>5</td>\n",
       "      <td>Red</td>\n",
       "      <td>M</td>\n",
       "    </tr>\n",
       "    <tr>\n",
       "      <th>84</th>\n",
       "      <td>14100</td>\n",
       "      <td>0.000670</td>\n",
       "      <td>0.0089</td>\n",
       "      <td>12.17</td>\n",
       "      <td>2</td>\n",
       "      <td>Blue-White</td>\n",
       "      <td>B</td>\n",
       "    </tr>\n",
       "  </tbody>\n",
       "</table>\n",
       "</div>"
      ],
      "text/plain": [
       "     Temperature (K)  Luminosity(L/Lo)  Radius(R/Ro)  Absolute magnitude(Mv)  \\\n",
       "59              3535     195000.000000     1546.0000                  -11.36   \n",
       "153            16390       1278.000000        5.6800                   -3.32   \n",
       "174             3600     240000.000000     1190.0000                   -7.89   \n",
       "201            15680          0.001220        0.0114                   11.92   \n",
       "95             11250        672.000000        6.9800                   -2.30   \n",
       "34              5800          0.810000        0.9000                    5.05   \n",
       "189             3523          0.000957        0.1290                   16.35   \n",
       "79              3158          0.001350        0.1610                   13.98   \n",
       "53              3749     550000.000000     1648.0000                   -8.05   \n",
       "84             14100          0.000670        0.0089                   12.17   \n",
       "\n",
       "     Star type    Star color Spectral Class  \n",
       "59           5           Red              M  \n",
       "153          3    Blue-White              B  \n",
       "174          5           Red              M  \n",
       "201          2          Blue              B  \n",
       "95           3    Blue-White              A  \n",
       "34           3  Yellow-White              F  \n",
       "189          0           Red              M  \n",
       "79           1           Red              M  \n",
       "53           5           Red              M  \n",
       "84           2    Blue-White              B  "
      ]
     },
     "execution_count": 11,
     "metadata": {},
     "output_type": "execute_result"
    }
   ],
   "source": [
    "star_df.sample(10)\n"
   ]
  },
  {
   "cell_type": "markdown",
   "metadata": {},
   "source": [
    "# Obervation\n",
    "\n",
    "From above information we can say that, the dataset has 240 rows, 6 features and 1 target column.\n",
    "\n",
    "* Features:\n",
    "1. Absolute Temperature (in K)\n",
    "2. Relative Luminosity (L/Lo)\n",
    "3. Relative Radius (R/Ro)\n",
    "4. Absolute Magnitude (Mv)\n",
    "5. Star Color\n",
    "6. Spectral Class\n",
    "\n",
    "* Target Column:\n",
    "Star Type \n",
    "\n",
    "Here,\n",
    "1. Lo = 3.828 x 10^26 Watts (Avg Luminosity of Sun)\n",
    "2. Ro = 6.9551 x 10^8 m (Avg Radius of Sun)\n",
    "\n",
    "* Two Categorical features which will need some kind of encoding\n",
    "1. Star Color\n",
    "2. Spectral Class\n",
    "\n",
    "* Information on the star type is given below:\n",
    "1. 0 -> Brown Dwarf\n",
    "2. 1 -> Red Dwarf\n",
    "3. 2 -> White Dwarf\n",
    "4. 3 -> Main Sequence\n",
    "5. 4 -> Supergiants\n",
    "6. 5 -> Hypergiants\n",
    "\n",
    "\n",
    "\n",
    "\n"
   ]
  },
  {
   "cell_type": "markdown",
   "metadata": {},
   "source": [
    "# Creating a directory to save the visualizations\n",
    "\n"
   ]
  },
  {
   "cell_type": "code",
   "execution_count": 13,
   "metadata": {},
   "outputs": [],
   "source": [
    "#Create a directory to save visualization\n",
    "folder_name  = 'star_plots'\n",
    "\n",
    "#Using makedirs functionality of os to create new directory\n",
    "os.makedirs(folder_name, exist_ok=True)\n",
    "\n",
    "base_dir = f'/Users/shubhamk/Documents/GitHub/Astronomical_Visualization/{folder_name}/'\n",
    "\n"
   ]
  },
  {
   "cell_type": "markdown",
   "metadata": {},
   "source": [
    "# Creating First Visualization"
   ]
  },
  {
   "cell_type": "code",
   "execution_count": 16,
   "metadata": {},
   "outputs": [
    {
     "data": {
      "text/plain": [
       "Star type\n",
       "0    40\n",
       "1    40\n",
       "2    40\n",
       "3    40\n",
       "4    40\n",
       "5    40\n",
       "Name: count, dtype: int64"
      ]
     },
     "execution_count": 16,
     "metadata": {},
     "output_type": "execute_result"
    }
   ],
   "source": [
    "#Bar Chart for visualizing count of stars with respective type\n",
    "\n",
    "#Accessing column Star Type from data set\n",
    "star_df['Star type']\n",
    "\n",
    "#Counting the number of stars for each type with value_counts()\n",
    "star_df['Star type'].value_counts()"
   ]
  },
  {
   "cell_type": "code",
   "execution_count": 17,
   "metadata": {},
   "outputs": [
    {
     "data": {
      "image/png": "[encoded data removed]",
      "text/plain": [
       "<Figure size 640x480 with 1 Axes>"
      ]
     },
     "metadata": {},
     "output_type": "display_data"
    }
   ],
   "source": [
    "#Using plot from matplotlib to plot the bar chart \n",
    "star_df['Star type'].value_counts().plot(kind='bar')\n",
    "plt.show()"
   ]
  },
  {
   "cell_type": "markdown",
   "metadata": {},
   "source": [
    "# Customizing and Saving the plot\n"
   ]
  },
  {
   "cell_type": "markdown",
   "metadata": {},
   "source": [
    "We will take care of following points to make bar chart more informative and attractive.\n",
    "\n",
    "* Adjust the size of the figure according to your convinience\n",
    "* Add the value of counts on top of bars\n",
    "* Set the background to dark\n",
    "* Change the color of each bar\n",
    "* Add a title\n",
    "* Add y label and change color of y ticks\n",
    "* Replace x ticks from 0,1,2,3,4,5 to respective names of star type\n",
    "* Save the plots in base directory"
   ]
  },
  {
   "cell_type": "code",
   "execution_count": 38,
   "metadata": {},
   "outputs": [
    {
     "data": {
      "image/png": "[encoded data removed]",
      "text/plain": [
       "<Figure size 400x400 with 1 Axes>"
      ]
     },
     "metadata": {},
     "output_type": "display_data"
    }
   ],
   "source": [
    "#Customizing the plot\n",
    "\n",
    "#Adjusting size of plot\n",
    "plt.figure(figsize=(4,4))\n",
    "\n",
    "\n",
    "#Setting the background\n",
    "plt.style.use('dark_background')\n",
    " \n",
    "ax = star_df['Star type'].value_counts().plot(kind='bar', color=['brown', 'red', 'green', 'blue', 'orange', 'gray'])\n",
    "\n",
    "#Adding labels on top of bars\n",
    "ax.bar_label(ax.containers[0], color = 'red')\n",
    "\n",
    "#Adding plot title\n",
    "plt.title('Star Count per Star Type', color = 'gold', weight='bold')\n",
    "\n",
    "#Adding color to yticks\n",
    "plt.yticks(color='tab:pink')\n",
    "\n",
    "#Adding y label\n",
    "plt.ylabel('# of Stars', color='gold', fontsize= 11)\n",
    "\n",
    "#Replacing x ticks with labels\n",
    "plt.xticks(ticks=[0, 1, 2, 3, 4, 5], labels=['Brown\\nDwarf',\n",
    "'Red\\nDwarf',\n",
    "'White\\nDwarf',\n",
    "'Main\\nSequence',\n",
    "'Supergiants',\n",
    "'Hypergiants'], rotation=45, color='gold')\n",
    "\n",
    "#Saving figure as a image file\n",
    "plt.savefig(base_dir+'barplot_star_count.png')\n",
    "\n",
    "plt.show()"
   ]
  },
  {
   "cell_type": "markdown",
   "metadata": {},
   "source": [
    "# Bar Graph using Seaborn"
   ]
  },
  {
   "cell_type": "code",
   "execution_count": 41,
   "metadata": {},
   "outputs": [
    {
     "name": "stdout",
     "output_type": "stream",
     "text": [
      "Index(['Red', 'Blue', 'Blue-White', 'Yellow-White', 'White'], dtype='object', name='Star color')\n"
     ]
    },
    {
     "data": {
      "text/plain": [
       "Star color\n",
       "Red             116\n",
       "Blue             56\n",
       "Blue-White       41\n",
       "Yellow-White     15\n",
       "White            12\n",
       "Name: count, dtype: int64"
      ]
     },
     "execution_count": 41,
     "metadata": {},
     "output_type": "execute_result"
    }
   ],
   "source": [
    "#Reading Star Color data\n",
    "print(star_df['Star color'].value_counts().index)\n",
    "\n",
    "star_df['Star color'].value_counts()"
   ]
  },
  {
   "cell_type": "code",
   "execution_count": 51,
   "metadata": {},
   "outputs": [
    {
     "data": {
      "image/png": "[encoded data removed]",
      "text/plain": [
       "<Figure size 640x480 with 1 Axes>"
      ]
     },
     "metadata": {},
     "output_type": "display_data"
    }
   ],
   "source": [
    "#Visualizing Star Color data with Seaborn and matplotlib\n",
    "sns.barplot(x=star_df['Star color'].value_counts().index,\n",
    "            y=star_df['Star color'].value_counts(),\n",
    "            palette='viridis')\n",
    "\n",
    "plt.xticks(rotation=15, color='red')\n",
    "plt.yticks(color='tab:pink')\n",
    "\n",
    "plt.xlabel('Star Color', color='Yellow', fontsize=13)\n",
    "plt.ylabel('Count', color='Yellow', fontsize=13)\n",
    "\n",
    "#plt.show() is used to remove axis labels. \n",
    "#Matplotlib makes it easier to to do things like changing plot title, tick labels and adding a legend.\n",
    "plt.show()"
   ]
  }
 ],
 "metadata": {
  "kernelspec": {
   "display_name": "Python 3",
   "language": "python",
   "name": "python3"
  },
  "language_info": {
   "codemirror_mode": {
    "name": "ipython",
    "version": 3
   },
   "file_extension": ".py",
   "mimetype": "text/x-python",
   "name": "python",
   "nbconvert_exporter": "python",
   "pygments_lexer": "ipython3",
   "version": "3.11.5"
  }
 },
 "nbformat": 4,
 "nbformat_minor": 2
}
