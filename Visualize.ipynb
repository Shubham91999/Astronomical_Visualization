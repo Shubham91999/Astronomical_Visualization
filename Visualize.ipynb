{
 "cells": [
  {
   "cell_type": "markdown",
   "metadata": {},
   "source": [
    "Introduction to Tabular data"
   ]
  },
  {
   "cell_type": "code",
   "execution_count": 1,
   "metadata": {},
   "outputs": [],
   "source": [
    "# Importing the libraries\n",
    "# OS library is used to interact with os file system. It helps in creating new directory and save visualizations that we have created with the help of python.\n",
    "import os\n",
    "\n",
    "# pandas -> used to read and interpret csv file\n",
    "import pandas as pd\n",
    "\n",
    "# numpy -> to convert data from csv to array or other required formats\n",
    "import numpy as np\n",
    "\n",
    "# seaborn -> uses Matplotlib to plot graphs from the datas. Used to visualize random distributions.\n",
    "import seaborn as sns\n",
    "\n",
    "# matplotlib -> to visualize and plot data\n",
    "import matplotlib.pyplot as plt\n"
   ]
  }
 ],
 "metadata": {
  "kernelspec": {
   "display_name": "Python 3",
   "language": "python",
   "name": "python3"
  },
  "language_info": {
   "codemirror_mode": {
    "name": "ipython",
    "version": 3
   },
   "file_extension": ".py",
   "mimetype": "text/x-python",
   "name": "python",
   "nbconvert_exporter": "python",
   "pygments_lexer": "ipython3",
   "version": "3.11.5"
  }
 },
 "nbformat": 4,
 "nbformat_minor": 2
}
