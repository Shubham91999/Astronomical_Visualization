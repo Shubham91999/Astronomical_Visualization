{
 "cells": [
  {
   "cell_type": "markdown",
   "metadata": {},
   "source": [
    "Introduction to Tabular data"
   ]
  },
  {
   "cell_type": "code",
   "execution_count": null,
   "metadata": {},
   "outputs": [],
   "source": []
  },
  {
   "cell_type": "code",
   "execution_count": 14,
   "metadata": {},
   "outputs": [],
   "source": [
    "# Importing the libraries\n",
    "# OS library is used to interact with os file system. It helps in creating new directory and save visualizations that we have created with the help of python.\n",
    "import os\n",
    "\n",
    "# pandas -> used to read and interpret csv file\n",
    "import pandas as pd\n",
    "\n",
    "# numpy -> to convert data from csv to array or other required formats\n",
    "import numpy as np\n",
    "\n",
    "# seaborn -> uses Matplotlib to plot graphs from the datas. Used to visualize random distributions.\n",
    "import seaborn as sns\n",
    "\n",
    "# matplotlib -> to visualize and plot data\n",
    "import matplotlib.pyplot as plt"
   ]
  },
  {
   "cell_type": "code",
   "execution_count": 24,
   "metadata": {},
   "outputs": [
    {
     "name": "stdout",
     "output_type": "stream",
     "text": [
      "<class 'pandas.core.frame.DataFrame'>\n",
      "RangeIndex: 240 entries, 0 to 239\n",
      "Data columns (total 7 columns):\n",
      " #   Column                  Non-Null Count  Dtype  \n",
      "---  ------                  --------------  -----  \n",
      " 0   Temperature (K)         240 non-null    int64  \n",
      " 1   Luminosity(L/Lo)        240 non-null    float64\n",
      " 2   Radius(R/Ro)            240 non-null    float64\n",
      " 3   Absolute magnitude(Mv)  240 non-null    float64\n",
      " 4   Star type               240 non-null    int64  \n",
      " 5   Star color              240 non-null    object \n",
      " 6   Spectral Class          240 non-null    object \n",
      "dtypes: float64(3), int64(2), object(2)\n",
      "memory usage: 13.3+ KB\n"
     ]
    }
   ],
   "source": [
    "# pd.read_csv('https://drive.google.com/uc?id=1BQVc6MHjQFtDC9iP1isT_K4ojVe_Oil-')\n",
    "\n",
    "# pd.read_csv('/Users/shubhamk/Documents/GitHub/Astronomical_Visualization/cleaned_star_data.csv')\n",
    "\n",
    "#Storing data in variable star_df\n",
    "star_df = pd.read_csv('https://raw.githubusercontent.com/Shubham91999/Astronomical_Visualization/main/cleaned_star_data.csv')\n",
    "\n",
    "#To check the datatype of returned result\n",
    "type(pd.read_csv('https://raw.githubusercontent.com/Shubham91999/Astronomical_Visualization/main/cleaned_star_data.csv'))\n",
    "\n",
    "#head() is used to return first 5 rows of the result set\n",
    "star_df.head()\n",
    "\n",
    "#sample() is used to analyze the random rows from dataset, here 10 rows are selected randomly\n",
    "star_df.sample(10)\n",
    "\n",
    "#Checking general information about the dataframe\n",
    "star_df.info()"
   ]
  },
  {
   "cell_type": "code",
   "execution_count": 25,
   "metadata": {},
   "outputs": [
    {
     "data": {
      "text/html": [
       "<div>\n",
       "<style scoped>\n",
       "    .dataframe tbody tr th:only-of-type {\n",
       "        vertical-align: middle;\n",
       "    }\n",
       "\n",
       "    .dataframe tbody tr th {\n",
       "        vertical-align: top;\n",
       "    }\n",
       "\n",
       "    .dataframe thead th {\n",
       "        text-align: right;\n",
       "    }\n",
       "</style>\n",
       "<table border=\"1\" class=\"dataframe\">\n",
       "  <thead>\n",
       "    <tr style=\"text-align: right;\">\n",
       "      <th></th>\n",
       "      <th>Temperature (K)</th>\n",
       "      <th>Luminosity(L/Lo)</th>\n",
       "      <th>Radius(R/Ro)</th>\n",
       "      <th>Absolute magnitude(Mv)</th>\n",
       "      <th>Star type</th>\n",
       "      <th>Star color</th>\n",
       "      <th>Spectral Class</th>\n",
       "    </tr>\n",
       "  </thead>\n",
       "  <tbody>\n",
       "    <tr>\n",
       "      <th>0</th>\n",
       "      <td>3068</td>\n",
       "      <td>0.002400</td>\n",
       "      <td>0.1700</td>\n",
       "      <td>16.12</td>\n",
       "      <td>0</td>\n",
       "      <td>Red</td>\n",
       "      <td>M</td>\n",
       "    </tr>\n",
       "    <tr>\n",
       "      <th>1</th>\n",
       "      <td>3042</td>\n",
       "      <td>0.000500</td>\n",
       "      <td>0.1542</td>\n",
       "      <td>16.60</td>\n",
       "      <td>0</td>\n",
       "      <td>Red</td>\n",
       "      <td>M</td>\n",
       "    </tr>\n",
       "    <tr>\n",
       "      <th>2</th>\n",
       "      <td>2600</td>\n",
       "      <td>0.000300</td>\n",
       "      <td>0.1020</td>\n",
       "      <td>18.70</td>\n",
       "      <td>0</td>\n",
       "      <td>Red</td>\n",
       "      <td>M</td>\n",
       "    </tr>\n",
       "    <tr>\n",
       "      <th>3</th>\n",
       "      <td>2800</td>\n",
       "      <td>0.000200</td>\n",
       "      <td>0.1600</td>\n",
       "      <td>16.65</td>\n",
       "      <td>0</td>\n",
       "      <td>Red</td>\n",
       "      <td>M</td>\n",
       "    </tr>\n",
       "    <tr>\n",
       "      <th>4</th>\n",
       "      <td>1939</td>\n",
       "      <td>0.000138</td>\n",
       "      <td>0.1030</td>\n",
       "      <td>20.06</td>\n",
       "      <td>0</td>\n",
       "      <td>Red</td>\n",
       "      <td>M</td>\n",
       "    </tr>\n",
       "  </tbody>\n",
       "</table>\n",
       "</div>"
      ],
      "text/plain": [
       "   Temperature (K)  Luminosity(L/Lo)  Radius(R/Ro)  Absolute magnitude(Mv)  \\\n",
       "0             3068          0.002400        0.1700                   16.12   \n",
       "1             3042          0.000500        0.1542                   16.60   \n",
       "2             2600          0.000300        0.1020                   18.70   \n",
       "3             2800          0.000200        0.1600                   16.65   \n",
       "4             1939          0.000138        0.1030                   20.06   \n",
       "\n",
       "   Star type Star color Spectral Class  \n",
       "0          0        Red              M  \n",
       "1          0        Red              M  \n",
       "2          0        Red              M  \n",
       "3          0        Red              M  \n",
       "4          0        Red              M  "
      ]
     },
     "execution_count": 25,
     "metadata": {},
     "output_type": "execute_result"
    }
   ],
   "source": [
    "star_df.head(5)"
   ]
  },
  {
   "cell_type": "code",
   "execution_count": 16,
   "metadata": {},
   "outputs": [
    {
     "data": {
      "text/html": [
       "<div>\n",
       "<style scoped>\n",
       "    .dataframe tbody tr th:only-of-type {\n",
       "        vertical-align: middle;\n",
       "    }\n",
       "\n",
       "    .dataframe tbody tr th {\n",
       "        vertical-align: top;\n",
       "    }\n",
       "\n",
       "    .dataframe thead th {\n",
       "        text-align: right;\n",
       "    }\n",
       "</style>\n",
       "<table border=\"1\" class=\"dataframe\">\n",
       "  <thead>\n",
       "    <tr style=\"text-align: right;\">\n",
       "      <th></th>\n",
       "      <th>Temperature (K)</th>\n",
       "      <th>Luminosity(L/Lo)</th>\n",
       "      <th>Radius(R/Ro)</th>\n",
       "      <th>Absolute magnitude(Mv)</th>\n",
       "      <th>Star type</th>\n",
       "      <th>Star color</th>\n",
       "      <th>Spectral Class</th>\n",
       "    </tr>\n",
       "  </thead>\n",
       "  <tbody>\n",
       "    <tr>\n",
       "      <th>100</th>\n",
       "      <td>33300</td>\n",
       "      <td>240000.000000</td>\n",
       "      <td>12.00000</td>\n",
       "      <td>-6.500</td>\n",
       "      <td>4</td>\n",
       "      <td>Blue</td>\n",
       "      <td>B</td>\n",
       "    </tr>\n",
       "    <tr>\n",
       "      <th>200</th>\n",
       "      <td>16790</td>\n",
       "      <td>0.001400</td>\n",
       "      <td>0.01210</td>\n",
       "      <td>12.870</td>\n",
       "      <td>2</td>\n",
       "      <td>Blue</td>\n",
       "      <td>B</td>\n",
       "    </tr>\n",
       "    <tr>\n",
       "      <th>189</th>\n",
       "      <td>3523</td>\n",
       "      <td>0.000957</td>\n",
       "      <td>0.12900</td>\n",
       "      <td>16.350</td>\n",
       "      <td>0</td>\n",
       "      <td>Red</td>\n",
       "      <td>M</td>\n",
       "    </tr>\n",
       "    <tr>\n",
       "      <th>88</th>\n",
       "      <td>13720</td>\n",
       "      <td>0.000180</td>\n",
       "      <td>0.00892</td>\n",
       "      <td>12.970</td>\n",
       "      <td>2</td>\n",
       "      <td>White</td>\n",
       "      <td>F</td>\n",
       "    </tr>\n",
       "    <tr>\n",
       "      <th>80</th>\n",
       "      <td>7100</td>\n",
       "      <td>0.000290</td>\n",
       "      <td>0.01200</td>\n",
       "      <td>14.090</td>\n",
       "      <td>2</td>\n",
       "      <td>Yellow-White</td>\n",
       "      <td>F</td>\n",
       "    </tr>\n",
       "    <tr>\n",
       "      <th>185</th>\n",
       "      <td>2889</td>\n",
       "      <td>0.000352</td>\n",
       "      <td>0.09730</td>\n",
       "      <td>16.930</td>\n",
       "      <td>0</td>\n",
       "      <td>Red</td>\n",
       "      <td>M</td>\n",
       "    </tr>\n",
       "    <tr>\n",
       "      <th>61</th>\n",
       "      <td>3432</td>\n",
       "      <td>0.000670</td>\n",
       "      <td>0.19000</td>\n",
       "      <td>16.940</td>\n",
       "      <td>0</td>\n",
       "      <td>Red</td>\n",
       "      <td>M</td>\n",
       "    </tr>\n",
       "    <tr>\n",
       "      <th>216</th>\n",
       "      <td>9320</td>\n",
       "      <td>29.000000</td>\n",
       "      <td>1.91000</td>\n",
       "      <td>1.236</td>\n",
       "      <td>3</td>\n",
       "      <td>Blue-White</td>\n",
       "      <td>A</td>\n",
       "    </tr>\n",
       "    <tr>\n",
       "      <th>167</th>\n",
       "      <td>26373</td>\n",
       "      <td>198000.000000</td>\n",
       "      <td>39.00000</td>\n",
       "      <td>-5.830</td>\n",
       "      <td>4</td>\n",
       "      <td>Blue</td>\n",
       "      <td>O</td>\n",
       "    </tr>\n",
       "    <tr>\n",
       "      <th>119</th>\n",
       "      <td>3780</td>\n",
       "      <td>200000.000000</td>\n",
       "      <td>1324.00000</td>\n",
       "      <td>-10.700</td>\n",
       "      <td>5</td>\n",
       "      <td>Red</td>\n",
       "      <td>M</td>\n",
       "    </tr>\n",
       "  </tbody>\n",
       "</table>\n",
       "</div>"
      ],
      "text/plain": [
       "     Temperature (K)  Luminosity(L/Lo)  Radius(R/Ro)  Absolute magnitude(Mv)  \\\n",
       "100            33300     240000.000000      12.00000                  -6.500   \n",
       "200            16790          0.001400       0.01210                  12.870   \n",
       "189             3523          0.000957       0.12900                  16.350   \n",
       "88             13720          0.000180       0.00892                  12.970   \n",
       "80              7100          0.000290       0.01200                  14.090   \n",
       "185             2889          0.000352       0.09730                  16.930   \n",
       "61              3432          0.000670       0.19000                  16.940   \n",
       "216             9320         29.000000       1.91000                   1.236   \n",
       "167            26373     198000.000000      39.00000                  -5.830   \n",
       "119             3780     200000.000000    1324.00000                 -10.700   \n",
       "\n",
       "     Star type    Star color Spectral Class  \n",
       "100          4          Blue              B  \n",
       "200          2          Blue              B  \n",
       "189          0           Red              M  \n",
       "88           2         White              F  \n",
       "80           2  Yellow-White              F  \n",
       "185          0           Red              M  \n",
       "61           0           Red              M  \n",
       "216          3    Blue-White              A  \n",
       "167          4          Blue              O  \n",
       "119          5           Red              M  "
      ]
     },
     "execution_count": 16,
     "metadata": {},
     "output_type": "execute_result"
    }
   ],
   "source": [
    "star_df.sample(10)\n"
   ]
  },
  {
   "cell_type": "markdown",
   "metadata": {},
   "source": [
    "# Obervation\n",
    "\n",
    "From above information we can say that, the dataset has 240 rows, 6 features and 1 target column.\n",
    "\n",
    "* Features:\n",
    "1. Absolute Temperature (in K)\n",
    "2. Relative Luminosity (L/Lo)\n",
    "3. Relative Radius (R/Ro)\n",
    "4. Absolute Magnitude (Mv)\n",
    "5. Star Color\n",
    "6. Spectral Class\n",
    "\n",
    "* Target Column:\n",
    "Star Type \n",
    "\n",
    "Here,\n",
    "1. Lo = 3.828 x 10^26 Watts (Avg Luminosity of Sun)\n",
    "2. Ro = 6.9551 x 10^8 m (Avg Radius of Sun)\n",
    "\n",
    "* Two Categorical features which will need some kind of encoding\n",
    "1. Star Color\n",
    "2. Spectral Class\n",
    "\n",
    "* Information on the star type is given below:\n",
    "1. 0 -> Brown Dwarf\n",
    "2. 1 -> Red Dwarf\n",
    "3. 2 -> White Dwarf\n",
    "4. 3 -> Main Sequence\n",
    "5. 4 -> Supergiants\n",
    "6. 5 -> Hypergiants\n",
    "\n",
    "\n",
    "\n",
    "\n"
   ]
  },
  {
   "cell_type": "markdown",
   "metadata": {},
   "source": [
    "# Creating a directory to save the visualizations\n",
    "\n"
   ]
  },
  {
   "cell_type": "code",
   "execution_count": 17,
   "metadata": {},
   "outputs": [],
   "source": [
    "#Create a directory to save visualization\n",
    "folder_name  = 'star_plots'\n",
    "\n",
    "#Using makedirs functionality of os to create new directory\n",
    "os.makedirs(folder_name, exist_ok=True)\n",
    "\n",
    "base_dir = f'/Users/shubhamk/Documents/GitHub/Astronomical_Visualization/{folder_name}/'\n",
    "\n"
   ]
  },
  {
   "cell_type": "markdown",
   "metadata": {},
   "source": [
    "# Creating First Visualization"
   ]
  },
  {
   "cell_type": "code",
   "execution_count": 18,
   "metadata": {},
   "outputs": [
    {
     "data": {
      "text/plain": [
       "Star type\n",
       "0    40\n",
       "1    40\n",
       "2    40\n",
       "3    40\n",
       "4    40\n",
       "5    40\n",
       "Name: count, dtype: int64"
      ]
     },
     "execution_count": 18,
     "metadata": {},
     "output_type": "execute_result"
    }
   ],
   "source": [
    "#Bar Chart for visualizing count of stars with respective type\n",
    "\n",
    "#Accessing column Star Type from data set\n",
    "star_df['Star type']\n",
    "\n",
    "#Counting the number of stars for each type with value_counts()\n",
    "star_df['Star type'].value_counts()"
   ]
  },
  {
   "cell_type": "code",
   "execution_count": 19,
   "metadata": {},
   "outputs": [
    {
     "data": {
      "image/png": "[encoded data removed]",
      "text/plain": [
       "<Figure size 640x480 with 1 Axes>"
      ]
     },
     "metadata": {},
     "output_type": "display_data"
    }
   ],
   "source": [
    "#Using plot from matplotlib to plot the bar chart \n",
    "star_df['Star type'].value_counts().plot(kind='bar')\n",
    "plt.show()"
   ]
  },
  {
   "cell_type": "markdown",
   "metadata": {},
   "source": [
    "# Customizing and Saving the plot\n"
   ]
  },
  {
   "cell_type": "markdown",
   "metadata": {},
   "source": [
    "We will take care of following points to make bar chart more informative and attractive.\n",
    "\n",
    "* Adjust the size of the figure according to your convinience\n",
    "* Add the value of counts on top of bars\n",
    "* Set the background to dark\n",
    "* Change the color of each bar\n",
    "* Add a title\n",
    "* Add y label and change color of y ticks\n",
    "* Replace x ticks from 0,1,2,3,4,5 to respective names of star type\n",
    "* Save the plots in base directory"
   ]
  },
  {
   "cell_type": "code",
   "execution_count": 20,
   "metadata": {},
   "outputs": [
    {
     "data": {
      "image/png": "[encoded data removed]",
      "text/plain": [
       "<Figure size 400x400 with 1 Axes>"
      ]
     },
     "metadata": {},
     "output_type": "display_data"
    }
   ],
   "source": [
    "#Customizing the plot\n",
    "\n",
    "#Adjusting size of plot\n",
    "plt.figure(figsize=(4,4))\n",
    "\n",
    "\n",
    "#Setting the background\n",
    "plt.style.use('dark_background')\n",
    " \n",
    "ax = star_df['Star type'].value_counts().plot(kind='bar', color=['brown', 'red', 'green', 'blue', 'orange', 'gray'])\n",
    "\n",
    "#Adding labels on top of bars\n",
    "ax.bar_label(ax.containers[0], color = 'red')\n",
    "\n",
    "#Adding plot title\n",
    "plt.title('Star Count per Star Type', color = 'gold', weight='bold')\n",
    "\n",
    "#Adding color to yticks\n",
    "plt.yticks(color='tab:pink')\n",
    "\n",
    "#Adding y label\n",
    "plt.ylabel('# of Stars', color='gold', fontsize= 11)\n",
    "\n",
    "#Replacing x ticks with labels\n",
    "plt.xticks(ticks=[0, 1, 2, 3, 4, 5], labels=['Brown\\nDwarf',\n",
    "'Red\\nDwarf',\n",
    "'White\\nDwarf',\n",
    "'Main\\nSequence',\n",
    "'Supergiants',\n",
    "'Hypergiants'], rotation=45, color='gold')\n",
    "\n",
    "#Saving figure as a image file\n",
    "plt.savefig(base_dir+'barplot_star_count.png')\n",
    "\n",
    "plt.show()"
   ]
  },
  {
   "cell_type": "markdown",
   "metadata": {},
   "source": [
    "# Bar Graph using Seaborn"
   ]
  },
  {
   "cell_type": "code",
   "execution_count": 21,
   "metadata": {},
   "outputs": [
    {
     "name": "stdout",
     "output_type": "stream",
     "text": [
      "Index(['Red', 'Blue', 'Blue-White', 'Yellow-White', 'White'], dtype='object', name='Star color')\n"
     ]
    },
    {
     "data": {
      "text/plain": [
       "Star color\n",
       "Red             116\n",
       "Blue             56\n",
       "Blue-White       41\n",
       "Yellow-White     15\n",
       "White            12\n",
       "Name: count, dtype: int64"
      ]
     },
     "execution_count": 21,
     "metadata": {},
     "output_type": "execute_result"
    }
   ],
   "source": [
    "#Reading Star Color data\n",
    "print(star_df['Star color'].value_counts().index)\n",
    "\n",
    "star_df['Star color'].value_counts()"
   ]
  },
  {
   "cell_type": "code",
   "execution_count": 22,
   "metadata": {},
   "outputs": [
    {
     "data": {
      "image/png": "[encoded data removed]",
      "text/plain": [
       "<Figure size 640x480 with 1 Axes>"
      ]
     },
     "metadata": {},
     "output_type": "display_data"
    }
   ],
   "source": [
    "#Visualizing Star Color data with Seaborn and matplotlib\n",
    "ax = sns.barplot(x=star_df['Star color'].value_counts().index,\n",
    "            y=star_df['Star color'].value_counts(),\n",
    "            palette='viridis')\n",
    "\n",
    "ax.bar_label(ax.containers[0], color='red', weight='bold')\n",
    "\n",
    "plt.title('Visualizing count of Star Colors', fontsize=15, weight='bold', color='gold')\n",
    "\n",
    "plt.xticks(rotation=15, color='lime')\n",
    "plt.yticks(color='tab:pink')\n",
    "\n",
    "plt.xlabel('Star Color', color='Yellow', fontsize=13)\n",
    "plt.ylabel('Count', color='Yellow', fontsize=13)\n",
    "\n",
    "plt.savefig(base_dir+'Visualize_star_colors.png')\n",
    "\n",
    "#plt.show() is used to remove axis labels. \n",
    "#Matplotlib makes it easier to to do things like changing plot title, tick labels and adding a legend.\n",
    "plt.show()"
   ]
  },
  {
   "cell_type": "markdown",
   "metadata": {},
   "source": [
    "# Visualizing Outliers"
   ]
  },
  {
   "cell_type": "code",
   "execution_count": 23,
   "metadata": {},
   "outputs": [
    {
     "data": {
      "image/png": "[encoded data removed]",
      "text/plain": [
       "<Figure size 640x480 with 1 Axes>"
      ]
     },
     "metadata": {},
     "output_type": "display_data"
    }
   ],
   "source": [
    "#Visualize outliers in the data\n",
    "sns.boxplot(x=star_df['Star type'],\n",
    "            y=star_df.iloc[:, 0])\n",
    "plt.show()"
   ]
  }
 ],
 "metadata": {
  "kernelspec": {
   "display_name": "Python 3",
   "language": "python",
   "name": "python3"
  },
  "language_info": {
   "codemirror_mode": {
    "name": "ipython",
    "version": 3
   },
   "file_extension": ".py",
   "mimetype": "text/x-python",
   "name": "python",
   "nbconvert_exporter": "python",
   "pygments_lexer": "ipython3",
   "version": "3.11.5"
  }
 },
 "nbformat": 4,
 "nbformat_minor": 2
}
