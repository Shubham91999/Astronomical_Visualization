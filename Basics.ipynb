{
 "cells": [
  {
   "cell_type": "markdown",
   "metadata": {},
   "source": [
    "Trying print function with Hello World message"
   ]
  },
  {
   "cell_type": "code",
   "execution_count": 6,
   "metadata": {},
   "outputs": [
    {
     "name": "stdout",
     "output_type": "stream",
     "text": [
      "Hello World\n"
     ]
    }
   ],
   "source": [
    "# Single line comments are started with '#'\n",
    "# Multi line comments are started with \" \" \"\n",
    "\n",
    "\"\"\"\n",
    "Test1\n",
    "Test2\n",
    "\"\"\"\n",
    "print(\"Hello World\")"
   ]
  },
  {
   "cell_type": "code",
   "execution_count": 7,
   "metadata": {},
   "outputs": [
    {
     "name": "stdout",
     "output_type": "stream",
     "text": [
      "Venus Mars\n"
     ]
    }
   ],
   "source": [
    "planet_name = 'Venus'\n",
    "second_planet = \"Mars\"\n",
    "print(planet_name, second_planet)"
   ]
  },
  {
   "cell_type": "code",
   "execution_count": 8,
   "metadata": {},
   "outputs": [
    {
     "name": "stdout",
     "output_type": "stream",
     "text": [
      "Planet Saturn has 150 moons.\n"
     ]
    }
   ],
   "source": [
    "\"\"\" f-string in python\n",
    "These strings can be used with variables embedded with them\n",
    "\"\"\"\n",
    "planet_name = 'Saturn'\n",
    "planet_moons = 150\n",
    "print(f\"Planet {planet_name} has {planet_moons} moons.\")"
   ]
  },
  {
   "cell_type": "code",
   "execution_count": 14,
   "metadata": {},
   "outputs": [
    {
     "name": "stdout",
     "output_type": "stream",
     "text": [
      "Earth is the only plane with life. Maybe not!!\n"
     ]
    }
   ],
   "source": [
    "# Understandng string concatenation\n",
    "str_1 = \"Earth is the only plane with life.\"\n",
    "str_2 = \"Maybe not!!\"\n",
    "print(str_1 + \" \" + str_2)"
   ]
  },
  {
   "cell_type": "code",
   "execution_count": 19,
   "metadata": {},
   "outputs": [
    {
     "name": "stdout",
     "output_type": "stream",
     "text": [
      "Shubham\n",
      "<class 'str'>\n"
     ]
    }
   ],
   "source": [
    "# Taking user input\n",
    "user_name = input(\"Enter your name:\")\n",
    "print(user_name)\n",
    "print(type(user_name))"
   ]
  },
  {
   "cell_type": "code",
   "execution_count": 5,
   "metadata": {},
   "outputs": [
    {
     "name": "stdout",
     "output_type": "stream",
     "text": [
      "<class 'str'>\n",
      "34\n",
      "<class 'int'>\n",
      "45\n",
      "<class 'int'>\n"
     ]
    }
   ],
   "source": [
    "# Data Type conversion\n",
    "# Commands to convert -> str(input), int(input), float(input)\n",
    "\n",
    "# Convert a string data into integer and float \n",
    "user_number = input(\"Enter a number: \")\n",
    "print(type(user_number))\n",
    "str_to_int = int(user_number)\n",
    "print(str_to_int)\n",
    "print(type(str_to_int))\n",
    "\n",
    "second_number = int(input(\"Enter second number: \"))\n",
    "print(second_number)\n",
    "print(type(second_number))\n"
   ]
  },
  {
   "cell_type": "code",
   "execution_count": 6,
   "metadata": {},
   "outputs": [
    {
     "name": "stdout",
     "output_type": "stream",
     "text": [
      "9\n"
     ]
    }
   ],
   "source": [
    "# Getting int input from user and printing the sum\n",
    "num_one = int(input(\"Enter first number: \"))\n",
    "num_two = int(input(\"Enter second number: \"))\n",
    "print(num_one+num_two)\n"
   ]
  },
  {
   "cell_type": "markdown",
   "metadata": {},
   "source": [
    "Control Flow\n",
    "Loops and other conditional statements"
   ]
  },
  {
   "cell_type": "code",
   "execution_count": 9,
   "metadata": {},
   "outputs": [
    {
     "name": "stdout",
     "output_type": "stream",
     "text": [
      "-5\n",
      "-3\n",
      "-1\n",
      "1\n",
      "3\n",
      "5\n",
      "7\n",
      "9\n"
     ]
    }
   ],
   "source": [
    " # Range\n",
    "# range(start, end, skip) --> Start is inclusive and end is exclusive\n",
    "range(-5, 10)\n",
    "\n",
    "# For loop using above range\n",
    "for index in range(-5, 10, 2):\n",
    "    print(index)"
   ]
  },
  {
   "cell_type": "code",
   "execution_count": 10,
   "metadata": {},
   "outputs": [
    {
     "name": "stdout",
     "output_type": "stream",
     "text": [
      "LowerCASE\n",
      "lowercase\n"
     ]
    }
   ],
   "source": [
    "# Convert string into lowercase\n",
    "str_demo = 'LowerCASE'\n",
    "print(str_demo)\n",
    "print(str_demo.lower())"
   ]
  },
  {
   "cell_type": "code",
   "execution_count": 2,
   "metadata": {},
   "outputs": [
    {
     "name": "stdout",
     "output_type": "stream",
     "text": [
      "--- Type \"quit\" to exit ---\n",
      "earth\n",
      "venus\n",
      "mars\n",
      "quit\n"
     ]
    }
   ],
   "source": [
    "# While loop\n",
    "counter = 1\n",
    "print('--- Type \"quit\" to exit ---')\n",
    "while True: \n",
    "    obj = input(f'Enter your favorite Celestial Object {counter}:')\n",
    "    print(obj)\n",
    "    counter += 1\n",
    "    if obj.lower() == 'quit':\n",
    "        break"
   ]
  },
  {
   "cell_type": "markdown",
   "metadata": {},
   "source": [
    "Functions in Python"
   ]
  },
  {
   "cell_type": "code",
   "execution_count": 3,
   "metadata": {},
   "outputs": [
    {
     "name": "stdout",
     "output_type": "stream",
     "text": [
      "Hey Astrophiles!!\n"
     ]
    }
   ],
   "source": [
    "# Creating a function to greet without any input\n",
    "def greet():\n",
    "    print('Hey Astrophiles!!')\n",
    "greet()"
   ]
  },
  {
   "cell_type": "code",
   "execution_count": 5,
   "metadata": {},
   "outputs": [
    {
     "name": "stdout",
     "output_type": "stream",
     "text": [
      "Hey Shubham, I hope you are enjoying the project\n"
     ]
    }
   ],
   "source": [
    "# Creating a same function with input parameter \n",
    "def greet_person(name):\n",
    "    print(f'Hey {name}, I hope you are enjoying the project')\n",
    "greet_person('Shubham')"
   ]
  },
  {
   "cell_type": "code",
   "execution_count": 6,
   "metadata": {},
   "outputs": [
    {
     "name": "stdout",
     "output_type": "stream",
     "text": [
      "Hey Laukik, I hope you are enjoying the project\n"
     ]
    }
   ],
   "source": [
    "greet_person('Laukik')"
   ]
  },
  {
   "cell_type": "code",
   "execution_count": 7,
   "metadata": {},
   "outputs": [
    {
     "name": "stdout",
     "output_type": "stream",
     "text": [
      "Shubham, How are you?\n"
     ]
    }
   ],
   "source": [
    "# Positional argments\n",
    "def greeting(name, msg):\n",
    "    print(f'{name}, {msg}')\n",
    "greeting('Shubham', 'How are you?')"
   ]
  },
  {
   "cell_type": "code",
   "execution_count": 8,
   "metadata": {},
   "outputs": [
    {
     "name": "stdout",
     "output_type": "stream",
     "text": [
      "Laukik, How are you?\n"
     ]
    }
   ],
   "source": [
    "# Keyword arguments\n",
    "greeting(msg= 'How are you?', name='Laukik')"
   ]
  },
  {
   "cell_type": "code",
   "execution_count": 10,
   "metadata": {},
   "outputs": [
    {
     "name": "stdout",
     "output_type": "stream",
     "text": [
      "Shubham, Hope you are doing well!\n"
     ]
    }
   ],
   "source": [
    "# Default Arguments\n",
    "def greeting_with_default_args(name, msg='Hope you are doing well!'):\n",
    "    print(f'{name}, {msg}')\n",
    "greeting_with_default_args('Shubham')\n",
    "\n",
    "# Positional argument follows keyword argument"
   ]
  },
  {
   "cell_type": "code",
   "execution_count": 13,
   "metadata": {},
   "outputs": [
    {
     "data": {
      "text/plain": [
       "6"
      ]
     },
     "execution_count": 13,
     "metadata": {},
     "output_type": "execute_result"
    }
   ],
   "source": [
    "# Creating basic calculator function\n",
    "def basic_calc(num1, num2, operation):\n",
    "    if operation.lower() == 'add':\n",
    "        return num1+num2\n",
    "    elif operation.lower() == 'subtract':\n",
    "        return num1-num2\n",
    "    elif operation.lower() == 'multiply':\n",
    "        return num1*num2\n",
    "    elif operation.lower() == 'divide':\n",
    "        return num1/num2\n",
    "    else:\n",
    "        print(f'Wrong Input {operation}. Please enter any of the add, subtract, multiply, divide operations.')\n",
    "\n",
    "\n",
    "basic_calc(2, 3, 'multiply')\n"
   ]
  },
  {
   "cell_type": "code",
   "execution_count": 14,
   "metadata": {},
   "outputs": [
    {
     "name": "stdout",
     "output_type": "stream",
     "text": [
      "Wrong Input hjkxfvj. Please enter any of the add, subtract, multiply, divide operations.\n"
     ]
    }
   ],
   "source": [
    "basic_calc(2, 3, 'hjkxfvj')\n"
   ]
  }
 ],
 "metadata": {
  "kernelspec": {
   "display_name": "Python 3",
   "language": "python",
   "name": "python3"
  },
  "language_info": {
   "codemirror_mode": {
    "name": "ipython",
    "version": 3
   },
   "file_extension": ".py",
   "mimetype": "text/x-python",
   "name": "python",
   "nbconvert_exporter": "python",
   "pygments_lexer": "ipython3",
   "version": "3.12.0"
  }
 },
 "nbformat": 4,
 "nbformat_minor": 2
}
