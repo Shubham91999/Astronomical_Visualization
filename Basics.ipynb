{
 "cells": [
  {
   "cell_type": "markdown",
   "metadata": {},
   "source": [
    "Trying print function with Hello World message"
   ]
  },
  {
   "cell_type": "code",
   "execution_count": 1,
   "metadata": {},
   "outputs": [
    {
     "name": "stdout",
     "output_type": "stream",
     "text": [
      "Hello World\n"
     ]
    }
   ],
   "source": [
    "# Single line comments are started with '#'\n",
    "# Multi line comments are started with \" \" \"\n",
    "\n",
    "\"\"\"\n",
    "Test1\n",
    "Test2\n",
    "\"\"\"\n",
    "print(\"Hello World\")"
   ]
  },
  {
   "cell_type": "code",
   "execution_count": 3,
   "metadata": {},
   "outputs": [
    {
     "name": "stdout",
     "output_type": "stream",
     "text": [
      "Venus Mars\n"
     ]
    }
   ],
   "source": [
    "planet_name = 'Venus'\n",
    "second_planet = \"Mars\"\n",
    "print(planet_name, second_planet)"
   ]
  },
  {
   "cell_type": "code",
   "execution_count": 5,
   "metadata": {},
   "outputs": [
    {
     "name": "stdout",
     "output_type": "stream",
     "text": [
      "Planet Saturn has 150 moons.\n"
     ]
    }
   ],
   "source": [
    "\"\"\" f-string in python\n",
    "These strings can be used with variables embedded with them\n",
    "\"\"\"\n",
    "planet_name = 'Saturn'\n",
    "planet_moons = 150\n",
    "print(f\"Planet {planet_name} has {planet_moons} moons.\")"
   ]
  }
 ],
 "metadata": {
  "kernelspec": {
   "display_name": "Python 3",
   "language": "python",
   "name": "python3"
  },
  "language_info": {
   "codemirror_mode": {
    "name": "ipython",
    "version": 3
   },
   "file_extension": ".py",
   "mimetype": "text/x-python",
   "name": "python",
   "nbconvert_exporter": "python",
   "pygments_lexer": "ipython3",
   "version": "3.12.0"
  }
 },
 "nbformat": 4,
 "nbformat_minor": 2
}
